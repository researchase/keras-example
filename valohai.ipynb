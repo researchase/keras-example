{
 "cells": [
  {
   "cell_type": "markdown",
   "metadata": {},
   "source": [
    "deep_learning_bot api key:341301709:AAEuWgJ9Pxi5mmEiAy0r0UMY8KuQD554xPU\n"
   ]
  },
  {
   "cell_type": "markdown",
   "metadata": {},
   "source": [
    "valohaibot bot api key :357328780:AAFMdj5hozq0GF8qmrAsjLGFdPrWF_-ZVgM"
   ]
  },
  {
   "cell_type": "markdown",
   "metadata": {},
   "source": [
    "the idea is to create a bot that is able to do this :\n",
    "    1. make changes to a python file \n",
    "    2. commit the changes to github\n",
    "    3. go to valohai and fetch the commit\n",
    "    4. go to valohai and execute the commit\n",
    "    5. go to valohai and get log\n",
    "\n",
    "if it can do the above then the bot should do the following:\n",
    "    1. ask users for the neural network topology \n",
    "    2. ask how the model is compiled\n",
    "    3. convert the request to python keras file and then do the above steps from 1 to 5\n",
    "    "
   ]
  },
  {
   "cell_type": "code",
   "execution_count": null,
   "metadata": {
    "ExecuteTime": {
     "start_time": "2017-05-03T18:12:25.601Z"
    },
    "collapsed": false
   },
   "outputs": [
    {
     "name": "stdout",
     "output_type": "stream",
     "text": [
      "On branch master\n",
      "Your branch is up-to-date with 'origin/master'.\n",
      "\n",
      "Changes not staged for commit:\n",
      "\t\u001b[31mmodified:   cifar10_cnn.py\u001b[m\n",
      "\n",
      "Untracked files:\n",
      "\t\u001b[31m.ipynb_checkpoints/\u001b[m\n",
      "\t\u001b[31mvalohai.ipynb\u001b[m\n",
      "\n",
      "no changes added to commit\n",
      "Username for 'https://github.com': "
     ]
    }
   ],
   "source": [
    "\n",
    "!git commit -m \"First commit\"\n",
    "!git push origin master"
   ]
  },
  {
   "cell_type": "code",
   "execution_count": null,
   "metadata": {
    "collapsed": true
   },
   "outputs": [],
   "source": []
  }
 ],
 "metadata": {
  "hide_input": false,
  "kernelspec": {
   "display_name": "Python 2",
   "language": "python",
   "name": "python2"
  },
  "language_info": {
   "codemirror_mode": {
    "name": "ipython",
    "version": 2
   },
   "file_extension": ".py",
   "mimetype": "text/x-python",
   "name": "python",
   "nbconvert_exporter": "python",
   "pygments_lexer": "ipython2",
   "version": "2.7.6"
  },
  "toc": {
   "nav_menu": {
    "height": "12px",
    "width": "252px"
   },
   "navigate_menu": true,
   "number_sections": true,
   "sideBar": true,
   "threshold": 4,
   "toc_cell": false,
   "toc_section_display": "block",
   "toc_window_display": false
  }
 },
 "nbformat": 4,
 "nbformat_minor": 1
}
